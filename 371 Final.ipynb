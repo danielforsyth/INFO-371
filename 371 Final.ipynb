{
 "cells": [
  {
   "cell_type": "markdown",
   "metadata": {},
   "source": [
    "Save preproccesed images for training and testing of model"
   ]
  },
  {
   "cell_type": "code",
   "execution_count": 1,
   "metadata": {
    "collapsed": false
   },
   "outputs": [],
   "source": [
    "import os\n",
    "import numpy as np\n",
    "from PIL import Image\n",
    "\n",
    "cats = '/Users/forsythd/Desktop/assignment4/data/cat/'\n",
    "humans = '/Users/forsythd/Desktop/assignment4/data/human/'\n",
    "\n",
    "# for x in os.listdir(cats):\n",
    "#     if not x.startswith('.'):\n",
    "#         im = cats+x\n",
    "#         cat = Image.open(im,'r')\n",
    "#         cat = cat.resize((500,500),Image.ANTIALIAS)\n",
    "#         gry = cat.convert('L')\n",
    "#         gry.save('/Users/forsythd/Desktop/assignment4/data/cat_pp/'+x)\n",
    "        \n",
    "# for x in os.listdir(humans):\n",
    "#     if not x.startswith('.'):\n",
    "#         im = humans+x\n",
    "#         human = Image.open(im,'r')\n",
    "#         human = human.resize((500,500),Image.ANTIALIAS)\n",
    "#         gry = human.convert('L')\n",
    "#         gry.save('/Users/forsythd/Desktop/assignment4/data/human_pp/'+x)"
   ]
  },
  {
   "cell_type": "markdown",
   "metadata": {},
   "source": [
    "Create feature vector and target vector"
   ]
  },
  {
   "cell_type": "code",
   "execution_count": 2,
   "metadata": {
    "collapsed": false
   },
   "outputs": [],
   "source": [
    "cats_pp = '/Users/forsythd/Desktop/assignment4/data/cat_pp/'\n",
    "humans_pp = '/Users/forsythd/Desktop/assignment4/data/human_pp/'\n",
    "cats_arr = []\n",
    "humans_arr = []\n",
    "\n",
    "for x in os.listdir(cats_pp):\n",
    "    if not x.startswith('.'):\n",
    "        im = cats_pp+x\n",
    "        cat = Image.open(im,'r')\n",
    "        array = np.asarray(cat).flatten()\n",
    "        cats_arr.append(array)\n",
    "        \n",
    "for x in os.listdir(humans_pp):\n",
    "    if not x.startswith('.'):\n",
    "        im = humans_pp+x\n",
    "        human = Image.open(im,'r')\n",
    "        array = np.asarray(human).flatten()\n",
    "        humans_arr.append(array)\n",
    "        \n",
    "\n",
    "targets = [1] * len(cats_arr) + [0] * len(humans_arr)\n",
    "arr = cats_arr + humans_arr"
   ]
  },
  {
   "cell_type": "markdown",
   "metadata": {},
   "source": [
    "Train SVM using training data, use grid search to determine best model parameters"
   ]
  },
  {
   "cell_type": "code",
   "execution_count": 3,
   "metadata": {
    "collapsed": false
   },
   "outputs": [],
   "source": [
    "from sklearn import svm, metrics,grid_search\n",
    "from sklearn.cross_validation import train_test_split\n",
    "\n",
    "\n",
    "X_train, X_test, y_train, y_test = train_test_split(arr,targets,test_size=.2)\n",
    "\n",
    "\n",
    "parameters = {'kernel': ['linear', 'rbf'], 'C': [1, 10, 100, 1000],\n",
    "            'gamma': [0.01, 0.001, 0.0001]}\n",
    "\n",
    "\n",
    "clf = grid_search.GridSearchCV(svm.SVC(), parameters).fit(X_train, y_train)\n",
    "classifier = clf.best_estimator_\n",
    "y_pred = classifier.predict(X_test)"
   ]
  },
  {
   "cell_type": "markdown",
   "metadata": {},
   "source": [
    "Print Best Model and Metrics"
   ]
  },
  {
   "cell_type": "code",
   "execution_count": 4,
   "metadata": {
    "collapsed": false
   },
   "outputs": [
    {
     "name": "stdout",
     "output_type": "stream",
     "text": [
      "{'kernel': 'linear', 'C': 1, 'gamma': 0.01}\n",
      "\n",
      "             precision    recall  f1-score   support\n",
      "\n",
      "          0       0.42      0.65      0.51        17\n",
      "          1       0.57      0.35      0.43        23\n",
      "\n",
      "avg / total       0.51      0.47      0.47        40\n",
      "\n",
      "\n",
      "0.475\n"
     ]
    }
   ],
   "source": [
    "print clf.best_params_\n",
    "print\n",
    "print metrics.classification_report(y_test,classifier.predict(X_test))\n",
    "print \n",
    "print metrics.accuracy_score(y_test,y_pred)"
   ]
  },
  {
   "cell_type": "markdown",
   "metadata": {},
   "source": [
    "Try using color images instead of BW"
   ]
  },
  {
   "cell_type": "code",
   "execution_count": 5,
   "metadata": {
    "collapsed": false
   },
   "outputs": [],
   "source": [
    "cats_color_arr = []\n",
    "humans_color_arr = []\n",
    "\n",
    "for x in os.listdir(cats):\n",
    "    if not x.startswith('.'):\n",
    "        im = cats+x\n",
    "        cat = Image.open(im,'r')\n",
    "        cat = cat.convert('RGB')\n",
    "        cat = cat.resize((500,500),Image.ANTIALIAS)\n",
    "        array = np.asarray(cat).flatten()\n",
    "        cats_color_arr.append(array)\n",
    "        \n",
    "for x in os.listdir(humans):\n",
    "    if not x.startswith('.'):\n",
    "        im = humans+x\n",
    "        human = Image.open(im,'r')\n",
    "        cat = cat.convert('RGB')\n",
    "        human = human.resize((500,500),Image.ANTIALIAS)\n",
    "        array = np.asarray(human).flatten()\n",
    "        humans_color_arr.append(array)\n",
    "        \n",
    "        \n",
    "color_targets = [1] * len(cats_color_arr) + [0] * len(humans_color_arr)\n",
    "color_arr = cats_color_arr + humans_color_arr\n",
    "\n",
    "X_train, X_test, y_train, y_test = train_test_split(color_arr,color_targets,test_size=.2)\n",
    "\n",
    "\n",
    "parameters = {'kernel': ['linear', 'rbf'], 'C': [1, 10, 100, 1000],\n",
    "            'gamma': [0.01, 0.001, 0.0001]}\n",
    "\n",
    "# search for the best classifier within the search space and return it\n",
    "clf = grid_search.GridSearchCV(svm.SVC(), parameters).fit(X_train, y_train)\n",
    "classifier = clf.best_estimator_\n",
    "y_pred = classifier.predict(X_test) "
   ]
  },
  {
   "cell_type": "code",
   "execution_count": 6,
   "metadata": {
    "collapsed": false
   },
   "outputs": [
    {
     "name": "stdout",
     "output_type": "stream",
     "text": [
      "{'kernel': 'linear', 'C': 1, 'gamma': 0.01}\n",
      "\n",
      "             precision    recall  f1-score   support\n",
      "\n",
      "          0       0.64      0.82      0.72        17\n",
      "          1       0.83      0.65      0.73        23\n",
      "\n",
      "avg / total       0.75      0.72      0.73        40\n",
      "\n",
      "\n",
      "0.725\n"
     ]
    }
   ],
   "source": [
    "print clf.best_params_\n",
    "print\n",
    "print metrics.classification_report(y_test,classifier.predict(X_test))\n",
    "print\n",
    "print metrics.accuracy_score(y_test,y_pred)  "
   ]
  }
 ],
 "metadata": {
  "kernelspec": {
   "display_name": "Python 2",
   "language": "python",
   "name": "python2"
  },
  "language_info": {
   "codemirror_mode": {
    "name": "ipython",
    "version": 2
   },
   "file_extension": ".py",
   "mimetype": "text/x-python",
   "name": "python",
   "nbconvert_exporter": "python",
   "pygments_lexer": "ipython2",
   "version": "2.7.10"
  }
 },
 "nbformat": 4,
 "nbformat_minor": 0
}
